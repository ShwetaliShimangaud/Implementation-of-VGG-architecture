{
  "nbformat": 4,
  "nbformat_minor": 0,
  "metadata": {
    "colab": {
      "provenance": [],
      "gpuType": "T4"
    },
    "kernelspec": {
      "name": "python3",
      "display_name": "Python 3"
    },
    "language_info": {
      "name": "python"
    },
    "accelerator": "GPU"
  },
  "cells": [
    {
      "cell_type": "code",
      "source": [
        "!unzip  '/content/drive/MyDrive/imagenette2-320.zip'"
      ],
      "metadata": {
        "id": "F2qoGkSanTQ6"
      },
      "execution_count": null,
      "outputs": []
    },
    {
      "cell_type": "code",
      "execution_count": null,
      "metadata": {
        "id": "Ra38ZknpmNM_"
      },
      "outputs": [],
      "source": [
        "from tensorflow.keras.preprocessing.image import ImageDataGenerator\n",
        "import tensorflow as tf\n",
        "\n",
        "\n",
        "def read_dataset(path, size):\n",
        "    # Define image data generator with augmentation options if needed\n",
        "    image_generator = ImageDataGenerator()\n",
        "\n",
        "    # Set up the image generator to flow from the directory\n",
        "    batch_size = 32\n",
        "    image_size = (size, size)  # adjust the size as needed\n",
        "    class_mode = 'categorical'  # or 'binary' if it's a binary classification\n",
        "\n",
        "    # Flow images in batches from the directory\n",
        "    data_generator = image_generator.flow_from_directory(\n",
        "        path,\n",
        "        target_size=image_size,\n",
        "        batch_size=batch_size,\n",
        "        class_mode=class_mode\n",
        "    )\n",
        "    return data_generator\n",
        "\n",
        "\n",
        "def get_train_dataset(size):\n",
        "    path = '/content/imagenette2-320/train'\n",
        "    return read_dataset(path, size)\n",
        "\n",
        "\n",
        "def get_validation_dataset(size):\n",
        "    path = '/content/imagenette2-320/val'\n",
        "    return read_dataset(path, size)\n"
      ]
    },
    {
      "cell_type": "code",
      "source": [
        "# import dataset_loader\n",
        "import tensorflow as tf\n",
        "from sklearn.metrics import top_k_accuracy_score\n",
        "from tensorflow import keras\n",
        "from keras.models import Sequential\n",
        "from tensorflow.keras.layers import Input, Conv2D, Dense, Flatten, Dropout\n",
        "\n",
        "pretrained_model = tf.keras.applications.vgg16.VGG16(\n",
        "    include_top=False,\n",
        "    weights='imagenet',\n",
        "    classes=10,\n",
        "    classifier_activation='softmax'\n",
        ")\n",
        "\n",
        "for layer in pretrained_model.layers:\n",
        "    layer.trainable = False\n",
        "\n",
        "x = pretrained_model.output\n",
        "x = Conv2D(4096, (7, 7), activation='relu', padding='valid')(x)\n",
        "x = Conv2D(4096, (1, 1), activation='relu', padding='valid')(x)\n",
        "x = Conv2D(10, (1, 1), activation='softmax')(x)\n",
        "x = tf.keras.layers.GlobalMaxPooling2D()(x)\n",
        "x = Flatten()(x)\n",
        "\n",
        "# Create a new model\n",
        "# model = tf.keras.Model(inputs=pretrained_model.input, outputs=x)\n",
        "# model.compile(loss='categorical_crossentropy', optimizer=keras.optimizers.Adam(learning_rate=1e-5), metrics=[keras.metrics.TopKCategoricalAccuracy(k=1, name='top 1%'), keras.metrics.TopKCategoricalAccuracy(k=5, name='top 5%')])\n",
        "epochs = 1\n",
        "\n",
        "# Experiment 1 : S=256\n",
        "train_data = get_train_dataset(256)\n",
        "\n",
        "# Experiment 1.1 : S=256, Q=224\n",
        "model1 = tf.keras.Model(inputs=pretrained_model.input, outputs=x)\n",
        "model1.compile(loss='categorical_crossentropy', optimizer=keras.optimizers.Adam(learning_rate=1e-5), metrics=[keras.metrics.TopKCategoricalAccuracy(k=1, name='top 1%'), keras.metrics.TopKCategoricalAccuracy(k=5, name='top 5%')])\n",
        "test_data_224 = get_validation_dataset(224)\n",
        "score_224 = model1.fit(train_data,validation_data=test_data_224, epochs=epochs)\n",
        "\n",
        "# Experiment 1.2 : S=256, Q=256\n",
        "model2 = tf.keras.Model(inputs=pretrained_model.input, outputs=x)\n",
        "model2.compile(loss='categorical_crossentropy', optimizer=keras.optimizers.Adam(learning_rate=1e-5), metrics=[keras.metrics.TopKCategoricalAccuracy(k=1, name='top 1%'), keras.metrics.TopKCategoricalAccuracy(k=5, name='top 5%')])\n",
        "test_data_256 = get_validation_dataset(256)\n",
        "score_256 = model2.fit(train_data,validation_data=test_data_256, epochs=epochs)\n",
        "\n",
        "# Experiment 1.3 : S=256, Q=288\n",
        "model3 = tf.keras.Model(inputs=pretrained_model.input, outputs=x)\n",
        "model3.compile(loss='categorical_crossentropy', optimizer=keras.optimizers.Adam(learning_rate=1e-5), metrics=[keras.metrics.TopKCategoricalAccuracy(k=1, name='top 1%'), keras.metrics.TopKCategoricalAccuracy(k=5, name='top 5%')])\n",
        "test_data_288 = get_validation_dataset(288)\n",
        "score_288 = model3.fit(train_data,validation_data=test_data_288, epochs=epochs)\n"
      ],
      "metadata": {
        "id": "vxRWUHL-nNCV",
        "colab": {
          "base_uri": "https://localhost:8080/"
        },
        "outputId": "8d39c2c9-4535-493e-bf99-72e5ad2a4486"
      },
      "execution_count": null,
      "outputs": [
        {
          "output_type": "stream",
          "name": "stdout",
          "text": [
            "Found 9469 images belonging to 10 classes.\n",
            "Found 3925 images belonging to 10 classes.\n",
            "296/296 [==============================] - 133s 412ms/step - loss: 0.3960 - top 1%: 0.9026 - top 5%: 0.9856 - val_loss: 0.4542 - val_top 1%: 0.9154 - val_top 5%: 0.9949\n",
            "Found 3925 images belonging to 10 classes.\n",
            "296/296 [==============================] - 134s 452ms/step - loss: 0.0618 - top 1%: 0.9912 - top 5%: 0.9998 - val_loss: 0.1911 - val_top 1%: 0.9488 - val_top 5%: 0.9977\n",
            "Found 3925 images belonging to 10 classes.\n",
            "296/296 [==============================] - 175s 593ms/step - loss: 0.0277 - top 1%: 0.9967 - top 5%: 0.9999 - val_loss: 0.1940 - val_top 1%: 0.9575 - val_top 5%: 0.9977\n"
          ]
        }
      ]
    },
    {
      "cell_type": "code",
      "source": [
        "# Experiment 2 : S=384\n",
        "train_data_384 = get_train_dataset(384)\n",
        "\n",
        "# Experiment 2.1 : S=384, Q=352\n",
        "model4 = tf.keras.Model(inputs=pretrained_model.input, outputs=x)\n",
        "model4.compile(loss='categorical_crossentropy', optimizer=keras.optimizers.Adam(learning_rate=1e-5), metrics=[keras.metrics.TopKCategoricalAccuracy(k=1, name='top 1%'), keras.metrics.TopKCategoricalAccuracy(k=5, name='top 5%')])\n",
        "test_data_352 = get_validation_dataset(352)\n",
        "score_352 = model4.fit(train_data_384,validation_data=test_data_352, epochs=epochs)\n",
        "\n",
        "# Experiment 2.2 : S=384, Q=384\n",
        "model5 = tf.keras.Model(inputs=pretrained_model.input, outputs=x)\n",
        "model5.compile(loss='categorical_crossentropy', optimizer=keras.optimizers.Adam(learning_rate=1e-5), metrics=[keras.metrics.TopKCategoricalAccuracy(k=1, name='top 1%'), keras.metrics.TopKCategoricalAccuracy(k=5, name='top 5%')])\n",
        "test_data_384 = get_validation_dataset(384)\n",
        "score_384 = model5.fit(train_data_384,validation_data=test_data_384, epochs=epochs)\n"
      ],
      "metadata": {
        "colab": {
          "base_uri": "https://localhost:8080/"
        },
        "id": "HyF00HNHJk35",
        "outputId": "90776b53-dac7-4d6d-e07f-e48fc075e036"
      },
      "execution_count": null,
      "outputs": [
        {
          "output_type": "stream",
          "name": "stdout",
          "text": [
            "Found 9469 images belonging to 10 classes.\n",
            "Found 3925 images belonging to 10 classes.\n",
            "296/296 [==============================] - 257s 832ms/step - loss: 0.3635 - top 1%: 0.9647 - top 5%: 0.9982 - val_loss: 0.2973 - val_top 1%: 0.9554 - val_top 5%: 0.9967\n",
            "Found 3925 images belonging to 10 classes.\n",
            "296/296 [==============================] - 247s 832ms/step - loss: 0.2478 - top 1%: 0.9782 - top 5%: 0.9995 - val_loss: 0.3211 - val_top 1%: 0.9646 - val_top 5%: 0.9987\n"
          ]
        }
      ]
    },
    {
      "cell_type": "code",
      "source": [
        "# Experiment 3 : Random S = 320\n",
        "train_data_320 = get_train_dataset(320)\n",
        "\n",
        "# Experiment 3.1 : S=320, Q=256\n",
        "model6 = tf.keras.Model(inputs=pretrained_model.input, outputs=x)\n",
        "model6.compile(loss='categorical_crossentropy', optimizer=keras.optimizers.Adam(learning_rate=1e-5), metrics=[keras.metrics.TopKCategoricalAccuracy(k=1, name='top 1%'), keras.metrics.TopKCategoricalAccuracy(k=5, name='top 5%')])\n",
        "score_320_256 = model6.fit(train_data_320,validation_data=test_data_256, epochs=epochs)\n",
        "\n",
        "# Experiment 3.2 : S=320, Q=320\n",
        "model7 = tf.keras.Model(inputs=pretrained_model.input, outputs=x)\n",
        "model7.compile(loss='categorical_crossentropy', optimizer=keras.optimizers.Adam(learning_rate=1e-5), metrics=[keras.metrics.TopKCategoricalAccuracy(k=1, name='top 1%'), keras.metrics.TopKCategoricalAccuracy(k=5, name='top 5%')])\n",
        "test_data_320 = get_validation_dataset(320)\n",
        "score_320 = model7.fit(train_data_320,validation_data=test_data_320, epochs=epochs)\n",
        "\n",
        "# Experiment 3.2 : S=320, Q=384\n",
        "model8 = tf.keras.Model(inputs=pretrained_model.input, outputs=x)\n",
        "model8.compile(loss='categorical_crossentropy', optimizer=keras.optimizers.Adam(learning_rate=1e-5), metrics=[keras.metrics.TopKCategoricalAccuracy(k=1, name='top 1%'), keras.metrics.TopKCategoricalAccuracy(k=5, name='top 5%')])\n",
        "score_320_384 = model8.fit(train_data_320,validation_data=test_data_384, epochs=epochs)"
      ],
      "metadata": {
        "colab": {
          "base_uri": "https://localhost:8080/"
        },
        "id": "6sNmhRrwPRFk",
        "outputId": "1dc45f84-9dda-4315-b2cc-0564149b2a44"
      },
      "execution_count": null,
      "outputs": [
        {
          "output_type": "stream",
          "name": "stdout",
          "text": [
            "Found 9469 images belonging to 10 classes.\n",
            "296/296 [==============================] - 169s 543ms/step - loss: 0.1270 - top 1%: 0.9794 - top 5%: 0.9998 - val_loss: 0.3665 - val_top 1%: 0.9468 - val_top 5%: 0.9990\n",
            "Found 3925 images belonging to 10 classes.\n",
            "296/296 [==============================] - 177s 593ms/step - loss: 0.1103 - top 1%: 0.9869 - top 5%: 0.9999 - val_loss: 0.2490 - val_top 1%: 0.9671 - val_top 5%: 0.9977\n",
            "296/296 [==============================] - 191s 641ms/step - loss: 0.0954 - top 1%: 0.9900 - top 5%: 1.0000 - val_loss: 0.3523 - val_top 1%: 0.9707 - val_top 5%: 0.9975\n"
          ]
        }
      ]
    }
  ]
}